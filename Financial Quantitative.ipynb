{
 "cells": [
  {
   "cell_type": "code",
   "execution_count": 2,
   "metadata": {},
   "outputs": [],
   "source": [
    "import numpy as np\n",
    "import pandas as pd\n",
    "from pandas_datareader import data as pdr\n",
    "import matplotlib.pyplot as plt\n",
    "import yfinance as yf"
   ]
  },
  {
   "cell_type": "code",
   "execution_count": 3,
   "metadata": {},
   "outputs": [
    {
     "name": "stdout",
     "output_type": "stream",
     "text": [
      "[*********************100%***********************]  1 of 1 completed\n"
     ]
    },
    {
     "data": {
      "image/png": "[encoded data removed]",
      "text/plain": [
       "<Figure size 432x288 with 1 Axes>"
      ]
     },
     "metadata": {
      "needs_background": "light"
     },
     "output_type": "display_data"
    }
   ],
   "source": [
    "yf.pdr_override() \n",
    "stock = ['AAPL']\n",
    "start = pd.to_datetime('2013-12-12') \n",
    "end = pd.to_datetime('2020-01-10')\n",
    "data = pdr.get_data_yahoo(stock, start=start, end=end)['Adj Close']\n",
    "daily_returns = (data/data.shift(1))-1\n",
    "daily_returns.hist(bins=100)\n",
    "plt.show()"
   ]
  },
  {
   "cell_type": "code",
   "execution_count": 4,
   "metadata": {},
   "outputs": [],
   "source": [
    "from math import exp"
   ]
  },
  {
   "cell_type": "code",
   "execution_count": 5,
   "metadata": {},
   "outputs": [],
   "source": [
    "def discrete_future_value(X,r,n):\n",
    "    return X*(1+r)**n"
   ]
  },
  {
   "cell_type": "code",
   "execution_count": 6,
   "metadata": {},
   "outputs": [],
   "source": [
    "def discrete_present_value(X,r,n):\n",
    "    return X*(1+r)**-n"
   ]
  },
  {
   "cell_type": "code",
   "execution_count": 7,
   "metadata": {},
   "outputs": [],
   "source": [
    "def continuous_future_value(X,r,t):\n",
    "    return X*exp(r*t)"
   ]
  },
  {
   "cell_type": "code",
   "execution_count": 8,
   "metadata": {},
   "outputs": [],
   "source": [
    "def continuous_present_value(X,r,t):\n",
    "    return X*exp(-r*t)"
   ]
  },
  {
   "cell_type": "code",
   "execution_count": 10,
   "metadata": {},
   "outputs": [],
   "source": [
    "X =100 #value of investement in dollars\n",
    "r = 0.05 # intereset rate\n",
    "n = 5 #years"
   ]
  },
  {
   "cell_type": "code",
   "execution_count": 12,
   "metadata": {},
   "outputs": [
    {
     "name": "stdout",
     "output_type": "stream",
     "text": [
      "Future value of $100 in 5 year (disceret model): 127.62815625000003\n",
      "Future value of $100 in 5 year (continuous model): 128.40254166877415\n",
      "Future value of $100 in 5 year (disceret model): 78.35261664684589\n",
      "Future value of $100 in 5 year (continuous model): 77.8800783071405\n"
     ]
    }
   ],
   "source": [
    "print(\"Future value of $100 in 5 year (disceret model):\", discrete_future_value(X,r,n))\n",
    "print(\"Future value of $100 in 5 year (continuous model):\", continuous_future_value(X,r,n))\n",
    "print(\"Future value of $100 in 5 year (disceret model):\", discrete_present_value(X,r,n))\n",
    "print(\"Future value of $100 in 5 year (continuous model):\", continuous_present_value(X,r,n))"
   ]
  },
  {
   "cell_type": "code",
   "execution_count": 14,
   "metadata": {},
   "outputs": [],
   "source": [
    "def zero_bond_price(par_value, market_rate, n):\n",
    "    return par_value /(1+market_rate)**n"
   ]
  },
  {
   "cell_type": "code",
   "execution_count": 16,
   "metadata": {},
   "outputs": [],
   "source": [
    "def bond_price(par_value, coupon, market_rate, n):\n",
    "    c = par_value * coupon\n",
    "    return c/market_rate *(1-(1/(1 + market_rate)**n))+ par_value/(1+market_rate)**n"
   ]
  },
  {
   "cell_type": "code",
   "execution_count": 17,
   "metadata": {},
   "outputs": [],
   "source": [
    "par_value = 1000 #par_value of the bond\n",
    "coupon = 0.05 #bond_yield_coupon\n",
    "n = 3 #years\n",
    "market_rate = 0.04 # market rate of return"
   ]
  },
  {
   "cell_type": "code",
   "execution_count": 19,
   "metadata": {},
   "outputs": [
    {
     "name": "stdout",
     "output_type": "stream",
     "text": [
      "price of the zero_coupon bond: $889.00\n",
      "price of the coupon bond: $1027.75\n"
     ]
    }
   ],
   "source": [
    "print(\"price of the zero_coupon bond: $%0.2f\" % zero_bond_price(par_value, market_rate,n))\n",
    "print(\"price of the coupon bond: $%0.2f\" % bond_price(par_value, coupon, market_rate,n))"
   ]
  },
  {
   "cell_type": "code",
   "execution_count": null,
   "metadata": {},
   "outputs": [],
   "source": []
  }
 ],
 "metadata": {
  "kernelspec": {
   "display_name": "Python 3",
   "language": "python",
   "name": "python3"
  },
  "language_info": {
   "codemirror_mode": {
    "name": "ipython",
    "version": 3
   },
   "file_extension": ".py",
   "mimetype": "text/x-python",
   "name": "python",
   "nbconvert_exporter": "python",
   "pygments_lexer": "ipython3",
   "version": "3.7.3"
  }
 },
 "nbformat": 4,
 "nbformat_minor": 2
}
